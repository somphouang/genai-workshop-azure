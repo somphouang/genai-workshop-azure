{
  "cells": [
    {
      "cell_type": "markdown",
      "metadata": {
        "id": "nFbQGw2POViM"
      },
      "source": [
        "# Lab 2"
      ]
    },
    {
      "cell_type": "markdown",
      "metadata": {
        "id": "CZO8krnZMLZj"
      },
      "source": [
        "# Setup"
      ]
    },
    {
      "cell_type": "markdown",
      "metadata": {
        "id": "gM0zjk2VR2OR"
      },
      "source": [
        "## Setup Environment"
      ]
    },
    {
      "cell_type": "code",
      "execution_count": 1,
      "metadata": {
        "id": "Ln-8SRvAI-jS"
      },
      "outputs": [
        {
          "name": "stdout",
          "output_type": "stream",
          "text": [
            "Your unique user hash is: aa4c63640b84\n"
          ]
        }
      ],
      "source": [
        "! pip install -q streamlit \"openai<1.0.0\" elasticsearch elastic-apm inquirer python-dotenv\n",
        "\n",
        "import os, inquirer, re, secrets, requests\n",
        "import streamlit as st\n",
        "import openai\n",
        "\n",
        "from IPython.display import display\n",
        "from ipywidgets import widgets\n",
        "from pprint import pprint\n",
        "from elasticsearch import Elasticsearch\n",
        "from string import Template\n",
        "from dotenv import load_dotenv\n",
        "from requests.auth import HTTPBasicAuth\n",
        "\n",
        "#load the environment file\n",
        "load_dotenv(\"../env\", override=True)\n",
        "\n",
        "#if using the Elastic AI proxy, then generate the correct API key\n",
        "if os.environ['ELASTIC_PROXY'] == \"True\":\n",
        "\n",
        "  #remove the api type variable: it's a must when using the proxy\n",
        "  if \"OPENAI_API_TYPE\" in os.environ: del os.environ[\"OPENAI_API_TYPE\"]\n",
        "\n",
        "  #generate and share \"your\" unique hash\n",
        "  os.environ['USER_HASH'] = secrets.token_hex(nbytes=6)\n",
        "  print(f\"Your unique user hash is: {os.environ['USER_HASH']}\")\n",
        "\n",
        "  #get the current API key and combine with your hash\n",
        "  os.environ['OPENAI_API_KEY'] = f\"{os.environ['OPENAI_API_KEY']}-{os.environ['USER_HASH']}\"\n"
      ]
    },
    {
      "cell_type": "markdown",
      "metadata": {
        "id": "wEOV5KlycEmV"
      },
      "source": [
        "## Create Elasticsearch client connection"
      ]
    },
    {
      "cell_type": "code",
      "execution_count": 2,
      "metadata": {
        "id": "AUIB9n9ccGAR"
      },
      "outputs": [],
      "source": [
        "if 'ELASTIC_CLOUD_ID' in os.environ:\n",
        "  es = Elasticsearch(\n",
        "    cloud_id=os.environ['ELASTIC_CLOUD_ID'],\n",
        "    basic_auth=(os.environ['ELASTIC_USER'], os.environ['ELASTIC_PASSWORD']),\n",
        "    request_timeout=30\n",
        "  )\n",
        "elif 'ELASTIC_URL' in os.environ:\n",
        "  es = Elasticsearch(\n",
        "    os.environ['ELASTIC_URL'],\n",
        "    basic_auth=(os.environ['ELASTIC_USER'], os.environ['ELASTIC_PASSWORD']),\n",
        "    request_timeout=30\n",
        "  )\n",
        "else:\n",
        "  print(\"env needs to set either ELASTIC_CLOUD_ID or ELASTIC_URL\")"
      ]
    },
    {
      "cell_type": "markdown",
      "metadata": {
        "id": "E0uQujqZclf0"
      },
      "source": [
        "# Lab 2-1\n",
        "- Chunking (simplified example)\n",
        "- Generating embeddings\n",
        "- Perform kNN search"
      ]
    },
    {
      "cell_type": "markdown",
      "metadata": {
        "id": "fQQ-GAcOecAE"
      },
      "source": [
        "## Chunking\n",
        "Simplfied example"
      ]
    },
    {
      "cell_type": "code",
      "execution_count": 3,
      "metadata": {
        "id": "RCArFD3kecTU"
      },
      "outputs": [
        {
          "name": "stdout",
          "output_type": "stream",
          "text": [
            "The length of the paragraph is 4409 characters\n"
          ]
        }
      ],
      "source": [
        "body_content = \"Elastic Docs › Elasticsearch Guide [8.8] « Searchable snapshots Elasticsearch security principles » Secure the Elastic Stack edit The Elastic Stack is comprised of many moving parts. There are the Elasticsearch nodes that form the cluster, plus Logstash instances, Kibana instances, Beats agents, and clients all communicating with the cluster. To keep your cluster safe, adhere to the Elasticsearch security principles . The first principle is to run Elasticsearch with security enabled. Configuring security can be complicated, so we made it easy to start the Elastic Stack with security enabled and configured . For any new clusters, just start Elasticsearch to automatically enable password protection, secure internode communication with Transport Layer Security (TLS), and encrypt connections between Elasticsearch and Kibana. If you have an existing, unsecured cluster (or prefer to manage security on your own), you can manually enable and configure security to secure Elasticsearch clusters and any clients that communicate with your clusters. You can also implement additional security measures, such as role-based access control, IP filtering, and auditing. Enabling security protects Elasticsearch clusters by: Preventing unauthorized access with password protection, role-based access control, and IP filtering. Preserving the integrity of your data with SSL/TLS encryption. Maintaining an audit trail so you know who’s doing what to your cluster and the data it stores. If you plan to run Elasticsearch in a Federal Information Processing Standard (FIPS) 140-2 enabled JVM, see FIPS 140-2 . Preventing unauthorized access edit To prevent unauthorized access to your Elasticsearch cluster, you need a way to authenticate users in order to validate that a user is who they claim to be. For example, making sure that only the person named Kelsey Andorra can sign in as the user kandorra . The Elasticsearch security features provide a standalone authentication mechanism that enables you to quickly password-protect your cluster. If you’re already using LDAP, Active Directory, or PKI to manage users in your organization, the security features integrate with those systems to perform user authentication. In many cases, authenticating users isn’t enough. You also need a way to control what data users can access and what tasks they can perform. By enabling the Elasticsearch security features, you can authorize users by assigning access privileges to roles and assigning those roles to users. Using this role-based access control mechanism (RBAC), you can limit the user kandorra to only perform read operations on the events index restrict access to all other indices. The security features also enable you to restrict the nodes and clients that can connect to the cluster based on IP filters . You can block and allow specific IP addresses, subnets, or DNS domains to control network-level access to a cluster. See User authentication and User authorization . Preserving data integrity and confidentiality edit A critical part of security is keeping confidential data secured. Elasticsearch has built-in protections against accidental data loss and corruption. However, there’s nothing to stop deliberate tampering or data interception. The Elastic Stack security features use TLS to preserve the integrity of your data against tampering, while also providing confidentiality by encrypting communications to, from, and within the cluster. For even greater protection, you can increase the encryption strength . See Configure security for the Elastic Stack . Maintaining an audit trail edit Keeping a system secure takes vigilance. By using Elastic Stack security features to maintain an audit trail, you can easily see who is accessing your cluster and what they’re doing. You can configure the audit level, which accounts for the type of events that are logged. These events include failed authentication attempts, user access denied, node connection denied, and more. By analyzing access patterns and failed attempts to access your cluster, you can gain insights into attempted attacks and data breaches. Keeping an auditable log of the activity in your cluster can also help diagnose operational issues. See Enable audit logging . « Searchable snapshots Elasticsearch security principles » Most Popular Video Get Started with Elasticsearch Video Intro to Kibana Video ELK for Logs & Metrics\"\n",
        "print (\"The length of the paragraph is %s characters\" % len (body_content))"
      ]
    },
    {
      "cell_type": "markdown",
      "metadata": {
        "id": "-NGORlTWncWt"
      },
      "source": [
        "There are many ways to split text. We can split on individual characters, spaces, at a set length, using a library like langchain, or using a tokenizer, to name a few ways.\n",
        "\n",
        "For this simple example we are going to split on dot+space \". \", essentially spliting individual sentences."
      ]
    },
    {
      "cell_type": "code",
      "execution_count": 4,
      "metadata": {
        "id": "sVu0PcLzolSX"
      },
      "outputs": [
        {
          "name": "stdout",
          "output_type": "stream",
          "text": [
            "There are now 37 sentence chunks.\n",
            "The first element is:'Elastic Docs › Elasticsearch Guide [8.8] « Searchable snapshots Elasticsearch security principles » Secure the Elastic Stack edit The Elastic Stack is comprised of many moving parts'\n"
          ]
        }
      ],
      "source": [
        "chunked_content = [chunk for chunk in re.split('\\. ',  body_content)]\n",
        "chunk = chunked_content[0] # We'll use this later\n",
        "print (\"There are now %s sentence chunks.\\nThe first element is:'%s'\" % (len(chunked_content), chunk))"
      ]
    },
    {
      "cell_type": "markdown",
      "metadata": {
        "id": "D7NHs6s2qYii"
      },
      "source": [
        "TODO Talk about tokens"
      ]
    },
    {
      "cell_type": "code",
      "execution_count": 5,
      "metadata": {
        "id": "UwAOqksbrOUv"
      },
      "outputs": [
        {
          "data": {
            "text/plain": [
              "['Elastic',\n",
              " 'Docs',\n",
              " '›',\n",
              " 'Elasticsearch',\n",
              " 'Guide',\n",
              " '[8.8]',\n",
              " '«',\n",
              " 'Searchable',\n",
              " 'snapshots',\n",
              " 'Elasticsearch',\n",
              " 'security',\n",
              " 'principles',\n",
              " '»',\n",
              " 'Secure',\n",
              " 'the',\n",
              " 'Elastic',\n",
              " 'Stack',\n",
              " 'edit',\n",
              " 'The',\n",
              " 'Elastic',\n",
              " 'Stack',\n",
              " 'is',\n",
              " 'comprised',\n",
              " 'of',\n",
              " 'many',\n",
              " 'moving',\n",
              " 'parts']"
            ]
          },
          "execution_count": 5,
          "metadata": {},
          "output_type": "execute_result"
        }
      ],
      "source": [
        "# Show the \"tokens\" from the first chunk\n",
        "chunk.split()"
      ]
    },
    {
      "cell_type": "markdown",
      "metadata": {
        "id": "4DL2MkCprTBe"
      },
      "source": [
        "## Generate embeddings"
      ]
    },
    {
      "cell_type": "markdown",
      "metadata": {
        "id": "i3xI7Rg8rYOL"
      },
      "source": [
        "We need to pass our text to an embedding model to generate vectors.\n",
        "\n",
        "Models have pre-definied token limits which restrict the amount of text (tokens really) that can be processed into vectors."
      ]
    },
    {
      "cell_type": "code",
      "execution_count": 6,
      "metadata": {
        "id": "Co_jW0DevAUY"
      },
      "outputs": [],
      "source": [
        "es_model_id = 'sentence-transformers__msmarco-minilm-l-12-v3'"
      ]
    },
    {
      "cell_type": "code",
      "execution_count": 7,
      "metadata": {
        "id": "lXVW_fOpsr0H"
      },
      "outputs": [
        {
          "data": {
            "text/plain": [
              "'Elastic Docs › Elasticsearch Guide [8.8] « Searchable snapshots Elasticsearch security principles » Secure the Elastic Stack edit The Elastic Stack is comprised of many moving parts'"
            ]
          },
          "execution_count": 7,
          "metadata": {},
          "output_type": "execute_result"
        }
      ],
      "source": [
        "chunk"
      ]
    },
    {
      "cell_type": "code",
      "execution_count": 8,
      "metadata": {
        "id": "K8MOh-2Fqbr1"
      },
      "outputs": [],
      "source": [
        "docs =  [\n",
        "    {\n",
        "      \"text_field\": chunk\n",
        "    }\n",
        "]"
      ]
    },
    {
      "cell_type": "code",
      "execution_count": 9,
      "metadata": {
        "id": "Q-n1lTvAvVht"
      },
      "outputs": [],
      "source": [
        "chunk_vector = es.ml.infer_trained_model(model_id=es_model_id, docs=docs, )"
      ]
    },
    {
      "cell_type": "code",
      "execution_count": 10,
      "metadata": {
        "id": "1XHbhuX4v3ky"
      },
      "outputs": [
        {
          "name": "stdout",
          "output_type": "stream",
          "text": [
            "{'_id': '64837860d86b1293a9a5f620-0',\n",
            " '_index': 'chunker',\n",
            " '_source': {'body_content': 'Elastic Docs › Elasticsearch Guide [8.8] « '\n",
            "                             'Searchable snapshots Elasticsearch security '\n",
            "                             'principles » Secure the Elastic Stack edit The '\n",
            "                             'Elastic Stack is comprised of many moving parts. '\n",
            "                             'There are the Elasticsearch nodes that form the '\n",
            "                             'cluster, plus Logstash instances, Kibana '\n",
            "                             'instances, Beats agents, and clients all '\n",
            "                             'communicating with the cluster. To keep your '\n",
            "                             'cluster safe, adhere to the Elasticsearch '\n",
            "                             'security principles . The first principle is to '\n",
            "                             'run Elasticsearch with security enabled. '\n",
            "                             'Configuring security can be complicated, so we '\n",
            "                             'made it easy to start the Elastic Stack with '\n",
            "                             'security enabled and configured . For any new '\n",
            "                             'clusters, just start Elasticsearch to '\n",
            "                             'automatically enable password protection, secure '\n",
            "                             'internode communication with Transport Layer '\n",
            "                             'Security (TLS), and encrypt connections between '\n",
            "                             'Elasticsearch and Kibana. If you have an '\n",
            "                             'existing, unsecured cluster (or prefer to manage '\n",
            "                             'security on your own), you can manually enable '\n",
            "                             'and configure security to secure Elasticsearch '\n",
            "                             'clusters and any clients that communicate with '\n",
            "                             'your clusters. You can also implement additional '\n",
            "                             'security measures, such as role-based access '\n",
            "                             'control, IP filtering, and auditing. Enabling '\n",
            "                             'security protects Elasticsearch clusters by: '\n",
            "                             'Preventing unauthorized access with password '\n",
            "                             'protection, role-based access control, and IP '\n",
            "                             'filtering. Preserving the integrity of your data '\n",
            "                             'with SSL/TLS encryption. Maintaining an audit '\n",
            "                             'trail so you know who’s doing what to your '\n",
            "                             'cluster and the data it stores. If you plan to '\n",
            "                             'run Elasticsearch in a Federal Information '\n",
            "                             'Processing Standard (FIPS) 140-2 enabled JVM, '\n",
            "                             'see FIPS 140-2 . Preventing unauthorized access '\n",
            "                             'edit To prevent unauthorized access to your '\n",
            "                             'Elasticsearch cluster, you need a way to '\n",
            "                             'authenticate users in order to validate that a '\n",
            "                             'user is who they claim to be. For example, '\n",
            "                             'making sure that only the person named Kelsey '\n",
            "                             'Andorra can sign in as the user kandorra . The '\n",
            "                             'Elasticsearch security features provide a '\n",
            "                             'standalone authentication mechanism that enables '\n",
            "                             'you to quickly password-protect your cluster. If '\n",
            "                             'you’re already using LDAP, Active Directory, or '\n",
            "                             'PKI to manage users in your organization, the '\n",
            "                             'security features integrate with those systems '\n",
            "                             'to perform user authentication. In many cases, '\n",
            "                             'authenticating users isn’t enough. You also need '\n",
            "                             'a way to control what data users can access and '\n",
            "                             'what tasks they can perform. By enabling the '\n",
            "                             'Elasticsearch security features, you can '\n",
            "                             'authorize users by assigning access privileges '\n",
            "                             'to roles and assigning those roles to users. '\n",
            "                             'Using this role-based access control mechanism '\n",
            "                             '(RBAC), you can limit the user kandorra to only '\n",
            "                             'perform read operations on the events index '\n",
            "                             'restrict access to all other indices. The '\n",
            "                             'security features also enable you to restrict '\n",
            "                             'the nodes and clients that can connect to the '\n",
            "                             'cluster based on IP filters . You can block and '\n",
            "                             'allow specific IP addresses, subnets, or DNS '\n",
            "                             'domains to control network-level access to a '\n",
            "                             'cluster. See User authentication and User '\n",
            "                             'authorization . Preserving data integrity and '\n",
            "                             'confidentiality edit A critical part of security '\n",
            "                             'is keeping confidential data secured. '\n",
            "                             'Elasticsearch has built-in protections against '\n",
            "                             'accidental data loss and corruption. However, '\n",
            "                             'there’s nothing to stop deliberate tampering or '\n",
            "                             'data interception. The Elastic Stack security '\n",
            "                             'features use TLS to preserve the integrity of '\n",
            "                             'your data against tampering, while also '\n",
            "                             'providing confidentiality by encrypting '\n",
            "                             'communications to, from, and within the cluster. '\n",
            "                             'For even greater protection, you can increase '\n",
            "                             'the encryption strength . See Configure security '\n",
            "                             'for the Elastic Stack . Maintaining an audit '\n",
            "                             'trail edit Keeping a system secure takes '\n",
            "                             'vigilance. By using Elastic Stack security '\n",
            "                             'features to maintain an audit trail, you can '\n",
            "                             'easily see who is accessing your cluster and '\n",
            "                             'what they’re doing. You can configure the audit '\n",
            "                             'level, which accounts for the type of events '\n",
            "                             'that are logged. These events include failed '\n",
            "                             'authentication attempts, user access denied, '\n",
            "                             'node connection denied, and more. By analyzing '\n",
            "                             'access patterns and failed attempts to access '\n",
            "                             'your cluster, you can gain insights into '\n",
            "                             'attempted attacks and data breaches. Keeping an '\n",
            "                             'auditable log of the activity in your cluster '\n",
            "                             'can also help diagnose operational issues. See '\n",
            "                             'Enable audit logging . « Searchable snapshots '\n",
            "                             'Elasticsearch security principles » Most Popular '\n",
            "                             'Video Get Started with Elasticsearch Video Intro '\n",
            "                             'to Kibana Video ELK for Logs & Metrics',\n",
            "             'chunk': 'Elastic Docs › Elasticsearch Guide [8.8] « Searchable '\n",
            "                      'snapshots Elasticsearch security principles » Secure '\n",
            "                      'the Elastic Stack edit The Elastic Stack is comprised '\n",
            "                      'of many moving parts',\n",
            "             'chunk-vector': [-0.26609206199645996,\n",
            "                              -0.20308519899845123,\n",
            "                              -0.13074003159999847,\n",
            "                              -0.17462560534477234,\n",
            "                              -0.009353235363960266,\n",
            "                              0.06325003504753113,\n",
            "                              -0.4776316285133362,\n",
            "                              -0.04333087429404259,\n",
            "                              0.33607912063598633,\n",
            "                              0.14876793324947357,\n",
            "                              -0.18477818369865417,\n",
            "                              0.37248003482818604,\n",
            "                              0.3153908848762512,\n",
            "                              -0.08083271235227585,\n",
            "                              -0.1674974262714386,\n",
            "                              0.07289489358663559,\n",
            "                              -0.5394964218139648,\n",
            "                              0.08720915019512177,\n",
            "                              -0.4580443203449249,\n",
            "                              0.35625532269477844,\n",
            "                              0.11925751715898514,\n",
            "                              0.047418560832738876,\n",
            "                              0.2433592677116394,\n",
            "                              -0.23119856417179108,\n",
            "                              -0.10901003330945969,\n",
            "                              -0.025532105937600136,\n",
            "                              0.027812274172902107,\n",
            "                              -0.08301609754562378,\n",
            "                              -0.15825533866882324,\n",
            "                              -0.4043785631656647,\n",
            "                              -0.15318669378757477,\n",
            "                              -0.013109277002513409,\n",
            "                              0.1651751548051834,\n",
            "                              0.21723908185958862,\n",
            "                              -0.08746959269046783,\n",
            "                              0.30668905377388,\n",
            "                              0.05773308128118515,\n",
            "                              -0.15914398431777954,\n",
            "                              0.1831659972667694,\n",
            "                              0.07854752987623215,\n",
            "                              0.0589994452893734,\n",
            "                              0.08051864057779312,\n",
            "                              -0.17018146812915802,\n",
            "                              -0.11736463010311127,\n",
            "                              -0.19291600584983826,\n",
            "                              -0.014987105503678322,\n",
            "                              0.5144240260124207,\n",
            "                              -0.32473599910736084,\n",
            "                              -0.17246493697166443,\n",
            "                              0.14774636924266815,\n",
            "                              -0.34813305735588074,\n",
            "                              0.14897608757019043,\n",
            "                              0.10483992844820023,\n",
            "                              -0.03398234024643898,\n",
            "                              -0.2291237860918045,\n",
            "                              0.38159608840942383,\n",
            "                              0.4182398319244385,\n",
            "                              -0.12637755274772644,\n",
            "                              -0.3303256034851074,\n",
            "                              -0.09384364634752274,\n",
            "                              0.24169522523880005,\n",
            "                              -0.14376768469810486,\n",
            "                              0.3279118835926056,\n",
            "                              -0.024936368688941002,\n",
            "                              -0.21052207052707672,\n",
            "                              0.13602547347545624,\n",
            "                              0.04014657065272331,\n",
            "                              -0.02837454341351986,\n",
            "                              0.13911157846450806,\n",
            "                              -0.15671609342098236,\n",
            "                              0.03563724830746651,\n",
            "                              0.01984504610300064,\n",
            "                              -0.03162442520260811,\n",
            "                              0.2880762815475464,\n",
            "                              0.14367546141147614,\n",
            "                              -0.07060156017541885,\n",
            "                              0.320591002702713,\n",
            "                              -0.22753259539604187,\n",
            "                              0.14263884723186493,\n",
            "                              0.17716406285762787,\n",
            "                              -0.06426205486059189,\n",
            "                              0.01615111157298088,\n",
            "                              0.016639431938529015,\n",
            "                              0.03218064829707146,\n",
            "                              -0.22723260521888733,\n",
            "                              -0.24665845930576324,\n",
            "                              -0.2581127882003784,\n",
            "                              -0.09209252148866653,\n",
            "                              0.13324545323848724,\n",
            "                              -0.17116734385490417,\n",
            "                              0.2383800595998764,\n",
            "                              -0.3663640022277832,\n",
            "                              0.3119159936904907,\n",
            "                              -0.18998980522155762,\n",
            "                              0.07077869772911072,\n",
            "                              0.2687191367149353,\n",
            "                              -0.12809686362743378,\n",
            "                              0.31403011083602905,\n",
            "                              -0.3540158271789551,\n",
            "                              -0.5762408971786499,\n",
            "                              -0.17698317766189575,\n",
            "                              0.1447281539440155,\n",
            "                              0.3290317952632904,\n",
            "                              -0.2089354395866394,\n",
            "                              0.28155916929244995,\n",
            "                              -0.147461399435997,\n",
            "                              0.19464410841464996,\n",
            "                              -0.34565603733062744,\n",
            "                              -0.2549927532672882,\n",
            "                              -0.1338290274143219,\n",
            "                              0.10741005837917328,\n",
            "                              -0.19243428111076355,\n",
            "                              0.46686771512031555,\n",
            "                              -0.14862604439258575,\n",
            "                              -0.019853688776493073,\n",
            "                              -0.5566320419311523,\n",
            "                              -0.08564505726099014,\n",
            "                              -0.12094981223344803,\n",
            "                              -0.10948211699724197,\n",
            "                              -0.24240286648273468,\n",
            "                              -0.04385654255747795,\n",
            "                              -0.009297228418290615,\n",
            "                              0.4224797189235687,\n",
            "                              -0.015756338834762573,\n",
            "                              -0.1719960868358612,\n",
            "                              0.299378901720047,\n",
            "                              -0.10512448847293854,\n",
            "                              -0.14974457025527954,\n",
            "                              0.29519104957580566,\n",
            "                              -0.243238165974617,\n",
            "                              -0.1423012614250183,\n",
            "                              -0.08602628111839294,\n",
            "                              0.028978979215025902,\n",
            "                              -0.11162813752889633,\n",
            "                              0.010396244935691357,\n",
            "                              0.08342187106609344,\n",
            "                              -0.283022403717041,\n",
            "                              0.18743208050727844,\n",
            "                              0.1813632994890213,\n",
            "                              0.4384474754333496,\n",
            "                              -0.014071641489863396,\n",
            "                              -0.015053365379571915,\n",
            "                              -0.26208874583244324,\n",
            "                              -0.02089817263185978,\n",
            "                              -0.032911717891693115,\n",
            "                              0.24870827794075012,\n",
            "                              -0.36445698142051697,\n",
            "                              0.11671075224876404,\n",
            "                              -0.16532856225967407,\n",
            "                              0.13665886223316193,\n",
            "                              0.038307417184114456,\n",
            "                              -0.518866777420044,\n",
            "                              0.06378669291734695,\n",
            "                              -0.07749797403812408,\n",
            "                              0.20781736075878143,\n",
            "                              0.051536675542593,\n",
            "                              0.4661210775375366,\n",
            "                              0.15889137983322144,\n",
            "                              -0.29763394594192505,\n",
            "                              -0.18035519123077393,\n",
            "                              -0.27039042115211487,\n",
            "                              0.1411835104227066,\n",
            "                              0.2458006888628006,\n",
            "                              0.12254304438829422,\n",
            "                              -0.19167552888393402,\n",
            "                              0.20337937772274017,\n",
            "                              0.13873735070228577,\n",
            "                              0.050309356302022934,\n",
            "                              -0.06411588937044144,\n",
            "                              0.04065413028001785,\n",
            "                              -0.08276966959238052,\n",
            "                              -0.11465691030025482,\n",
            "                              -0.03319702297449112,\n",
            "                              0.22098064422607422,\n",
            "                              0.10050126165151596,\n",
            "                              0.2303827404975891,\n",
            "                              -0.022074630483984947,\n",
            "                              -0.31414979696273804,\n",
            "                              0.09622199088335037,\n",
            "                              0.03951248899102211,\n",
            "                              -0.052263956516981125,\n",
            "                              0.10700298845767975,\n",
            "                              -0.08292119950056076,\n",
            "                              -0.09554281830787659,\n",
            "                              -0.08153031766414642,\n",
            "                              0.3664994239807129,\n",
            "                              -0.05520712584257126,\n",
            "                              0.1062593087553978,\n",
            "                              -0.16221372783184052,\n",
            "                              0.2450370341539383,\n",
            "                              0.039381243288517,\n",
            "                              0.000840280088596046,\n",
            "                              0.247187077999115,\n",
            "                              0.047964468598365784,\n",
            "                              0.050891339778900146,\n",
            "                              -0.10889256000518799,\n",
            "                              0.24490132927894592,\n",
            "                              0.006115134339779615,\n",
            "                              0.07586240768432617,\n",
            "                              -0.27972015738487244,\n",
            "                              0.14900875091552734,\n",
            "                              0.24816571176052094,\n",
            "                              -0.28756004571914673,\n",
            "                              0.16894520819187164,\n",
            "                              -0.45081543922424316,\n",
            "                              -0.10217445343732834,\n",
            "                              0.13170282542705536,\n",
            "                              -0.12447160482406616,\n",
            "                              -0.07890503853559494,\n",
            "                              -0.0685809850692749,\n",
            "                              0.24355751276016235,\n",
            "                              0.13207150995731354,\n",
            "                              -0.2413441687822342,\n",
            "                              -0.1252712905406952,\n",
            "                              -0.01809592917561531,\n",
            "                              -0.16650579869747162,\n",
            "                              0.16243481636047363,\n",
            "                              -0.2969522774219513,\n",
            "                              -0.2680513858795166,\n",
            "                              -0.21343368291854858,\n",
            "                              0.13198071718215942,\n",
            "                              0.19343800842761993,\n",
            "                              0.13065820932388306,\n",
            "                              0.3474419414997101,\n",
            "                              0.02052115462720394,\n",
            "                              -0.2635795772075653,\n",
            "                              0.03480083867907524,\n",
            "                              0.2257613241672516,\n",
            "                              0.42640796303749084,\n",
            "                              0.4025172293186188,\n",
            "                              0.24445170164108276,\n",
            "                              -0.18132519721984863,\n",
            "                              -0.48741763830184937,\n",
            "                              0.18094128370285034,\n",
            "                              0.15534472465515137,\n",
            "                              -0.13618236780166626,\n",
            "                              -0.2827722430229187,\n",
            "                              -0.16728298366069794,\n",
            "                              0.17845416069030762,\n",
            "                              0.09345077723264694,\n",
            "                              -0.21290136873722076,\n",
            "                              -0.32064300775527954,\n",
            "                              -0.17564794421195984,\n",
            "                              0.09713904559612274,\n",
            "                              0.03545750305056572,\n",
            "                              -0.06241708993911743,\n",
            "                              0.08021377772092819,\n",
            "                              0.3261251747608185,\n",
            "                              0.07916542142629623,\n",
            "                              -0.1700586974620819,\n",
            "                              0.16217832267284393,\n",
            "                              0.28850799798965454,\n",
            "                              -0.14938119053840637,\n",
            "                              -0.24139520525932312,\n",
            "                              -0.1416555792093277,\n",
            "                              -0.26379525661468506,\n",
            "                              -0.20372022688388824,\n",
            "                              -0.15750528872013092,\n",
            "                              -0.16255953907966614,\n",
            "                              -0.1321711391210556,\n",
            "                              0.11673612147569656,\n",
            "                              0.32380935549736023,\n",
            "                              -0.07302428781986237,\n",
            "                              0.05530453473329544,\n",
            "                              0.40741395950317383,\n",
            "                              0.14039361476898193,\n",
            "                              0.338523805141449,\n",
            "                              -0.4439862072467804,\n",
            "                              0.08241620659828186,\n",
            "                              0.02910955436527729,\n",
            "                              -0.20260745286941528,\n",
            "                              -0.19041556119918823,\n",
            "                              0.059910908341407776,\n",
            "                              -0.03383965790271759,\n",
            "                              -0.1528860479593277,\n",
            "                              0.16677545011043549,\n",
            "                              0.14155778288841248,\n",
            "                              -0.18768510222434998,\n",
            "                              -0.11760609596967697,\n",
            "                              0.25409382581710815,\n",
            "                              -0.15958231687545776,\n",
            "                              0.15067356824874878,\n",
            "                              0.2913040518760681,\n",
            "                              -0.08237948268651962,\n",
            "                              -0.021521318703889847,\n",
            "                              -0.09028246253728867,\n",
            "                              0.2888367772102356,\n",
            "                              0.20481525361537933,\n",
            "                              -0.2699829638004303,\n",
            "                              -0.36292359232902527,\n",
            "                              -0.09480918943881989,\n",
            "                              -0.6308388113975525,\n",
            "                              -0.818863570690155,\n",
            "                              -0.0017619453137740493,\n",
            "                              -0.09205368906259537,\n",
            "                              -0.2093096673488617,\n",
            "                              0.5796846747398376,\n",
            "                              -0.13639836013317108,\n",
            "                              0.2871025800704956,\n",
            "                              0.04020393639802933,\n",
            "                              0.08400631695985794,\n",
            "                              -0.3159521520137787,\n",
            "                              -0.12388212233781815,\n",
            "                              0.15827971696853638,\n",
            "                              0.36059901118278503,\n",
            "                              -0.1808619648218155,\n",
            "                              0.39347216486930847,\n",
            "                              0.2259758710861206,\n",
            "                              -0.25167664885520935,\n",
            "                              0.18720310926437378,\n",
            "                              0.294833242893219,\n",
            "                              0.01760217919945717,\n",
            "                              -0.18619470298290253,\n",
            "                              -0.027011364698410034,\n",
            "                              0.04022401571273804,\n",
            "                              -0.23412230610847473,\n",
            "                              -0.20913749933242798,\n",
            "                              -0.13623957335948944,\n",
            "                              0.2231919765472412,\n",
            "                              0.3398936688899994,\n",
            "                              -0.06716269999742508,\n",
            "                              -0.05967990309000015,\n",
            "                              0.2883763015270233,\n",
            "                              -0.09159576147794724,\n",
            "                              0.03405412659049034,\n",
            "                              -0.10398213565349579,\n",
            "                              -0.12931042909622192,\n",
            "                              0.779694676399231,\n",
            "                              -0.31884241104125977,\n",
            "                              0.034475911408662796,\n",
            "                              0.06384750455617905,\n",
            "                              0.14946314692497253,\n",
            "                              -0.20766371488571167,\n",
            "                              0.0461367703974247,\n",
            "                              0.24241870641708374,\n",
            "                              0.08444424718618393,\n",
            "                              0.36932167410850525,\n",
            "                              0.333129346370697,\n",
            "                              -0.21904443204402924,\n",
            "                              -0.23368562757968903,\n",
            "                              0.28895875811576843,\n",
            "                              -0.29970142245292664,\n",
            "                              0.15403321385383606,\n",
            "                              0.02865767478942871,\n",
            "                              0.011490359902381897,\n",
            "                              0.17129936814308167,\n",
            "                              -0.06121768429875374,\n",
            "                              -0.20646385848522186,\n",
            "                              0.2052069902420044,\n",
            "                              0.04738844186067581,\n",
            "                              0.19609728455543518,\n",
            "                              -0.024455826729536057,\n",
            "                              0.4072709381580353,\n",
            "                              -0.03878845274448395,\n",
            "                              0.29845675826072693,\n",
            "                              0.480784147977829,\n",
            "                              0.09439442306756973,\n",
            "                              0.06754603981971741,\n",
            "                              -0.1303882896900177,\n",
            "                              -0.0649099126458168,\n",
            "                              -0.1887577772140503,\n",
            "                              -0.08878147602081299,\n",
            "                              0.07107624411582947,\n",
            "                              -0.015562852844595909,\n",
            "                              0.11491727828979492,\n",
            "                              0.10562797635793686,\n",
            "                              0.3130033612251282,\n",
            "                              0.14582331478595734,\n",
            "                              0.1950288861989975,\n",
            "                              0.15112705528736115,\n",
            "                              -0.023732149973511696,\n",
            "                              -0.09962090849876404,\n",
            "                              -0.03583918511867523,\n",
            "                              -0.02257038839161396,\n",
            "                              -0.07818768918514252,\n",
            "                              -0.0013507128460332751,\n",
            "                              -0.17664752900600433,\n",
            "                              -0.19242790341377258,\n",
            "                              -0.33306846022605896,\n",
            "                              0.10453703254461288,\n",
            "                              -0.02204095385968685,\n",
            "                              -0.3732229173183441,\n",
            "                              0.3039402663707733,\n",
            "                              -0.08466006815433502]}}\n"
          ]
        }
      ],
      "source": [
        "vector_doc = {\n",
        "  \"_index\": \"chunker\",\n",
        "  \"_id\": \"64837860d86b1293a9a5f620-0\",\n",
        "  \"_source\": {\n",
        "      \"chunk\" : chunk,\n",
        "      \"chunk-vector\" : chunk_vector['inference_results'][0]['predicted_value'],\n",
        "      \"body_content\" : body_content\n",
        "  }\n",
        "}\n",
        "\n",
        "pprint(vector_doc)"
      ]
    },
    {
      "cell_type": "markdown",
      "metadata": {
        "id": "LEK9CFy9w-6d"
      },
      "source": [
        "## Exceeding the model's token limit"
      ]
    },
    {
      "cell_type": "markdown",
      "metadata": {
        "id": "Ndjrwim0XS-m"
      },
      "source": [
        "Let's take a look at what happens when we exceed the model's token limit"
      ]
    },
    {
      "cell_type": "code",
      "execution_count": 11,
      "metadata": {
        "id": "ZVIaFOG-yaKJ"
      },
      "outputs": [],
      "source": [
        "full_paragraph =  [\n",
        "    {\n",
        "      \"text_field\": body_content\n",
        "    }\n",
        "]"
      ]
    },
    {
      "cell_type": "code",
      "execution_count": 12,
      "metadata": {
        "id": "6msjDqmZyaKJ"
      },
      "outputs": [
        {
          "name": "stdout",
          "output_type": "stream",
          "text": [
            "When the token size exceeds the model's max token limit, the value of `is_truncated` will return True\n",
            "We exceeded the model token limit: True\n"
          ]
        }
      ],
      "source": [
        "chunk_vector = es.ml.infer_trained_model(model_id=es_model_id, docs=full_paragraph, )\n",
        "print(\"When the token size exceeds the model's max token limit, the value of `is_truncated` will return True\")\n",
        "print('We exceeded the model token limit: %s' % chunk_vector['inference_results'][0]['is_truncated'])"
      ]
    },
    {
      "cell_type": "markdown",
      "metadata": {
        "id": "qYMM629tXYF8"
      },
      "source": [
        "We see that the model still processed the tokens up to it's limit, then simply truncated (ignored) any tokens longer than that.\n",
        "\n",
        "Elasticsearch returns a `is_truncated : True` key:value to let you know the embedding returned is not for the full text."
      ]
    },
    {
      "cell_type": "markdown",
      "metadata": {
        "id": "tIbhhCa4oKPO"
      },
      "source": [
        "## Querying with hybrid vector search"
      ]
    },
    {
      "cell_type": "markdown",
      "metadata": {
        "id": "cFNyCWCWp_nI"
      },
      "source": [
        "We will run through an example of searching with approximate kNN vector search combined with BM25 text search combing the results with rrf.\n",
        "\n",
        "This is the type of query that will power the UI we will use in lab 2-2"
      ]
    },
    {
      "cell_type": "code",
      "execution_count": 13,
      "metadata": {
        "id": "yVqwwfskoKqP"
      },
      "outputs": [
        {
          "name": "stdout",
          "output_type": "stream",
          "text": [
            "{'hits': [{'_id': '64839b70d86b12b9c1c83f15-8',\n",
            "           '_ignored': ['body_content.enum'],\n",
            "           '_index': 'workshop-session2-chunker',\n",
            "           '_rank': 1,\n",
            "           '_score': None,\n",
            "           'fields': {'body_content': ['Elastic Docs › Elasticsearch Guide '\n",
            "                                       '[8.8] › Secure the Elastic Stack › '\n",
            "                                       'Manually configure security « Manually '\n",
            "                                       'configure security Set up basic '\n",
            "                                       'security for the Elastic Stack » Set '\n",
            "                                       'up minimal security for Elasticsearch '\n",
            "                                       'edit You only need to complete the '\n",
            "                                       'following steps if you’re running an '\n",
            "                                       'existing, unsecured cluster and want '\n",
            "                                       'to enable the Elasticsearch security '\n",
            "                                       'features. In Elasticsearch 8.0 and '\n",
            "                                       'later, security is enabled '\n",
            "                                       'automatically when you start '\n",
            "                                       'Elasticsearch for the first time. If '\n",
            "                                       'you’re running an existing '\n",
            "                                       'Elasticsearch cluster where security '\n",
            "                                       'is disabled, you can manually enable '\n",
            "                                       'the Elasticsearch security features '\n",
            "                                       'and then create passwords for built-in '\n",
            "                                       'users. You can add more users later, '\n",
            "                                       'but using the built-in users '\n",
            "                                       'simplifies the process of enabling '\n",
            "                                       'security for your cluster. The minimal '\n",
            "                                       'security scenario is not sufficient '\n",
            "                                       'for production mode clusters. If your '\n",
            "                                       'cluster has multiple nodes, you must '\n",
            "                                       'enable minimal security and then '\n",
            "                                       'configure Transport Layer Security '\n",
            "                                       '(TLS) between nodes. Enable '\n",
            "                                       'Elasticsearch security features edit '\n",
            "                                       'Enabling the Elasticsearch security '\n",
            "                                       'features provides basic authentication '\n",
            "                                       'so that you can run a local cluster '\n",
            "                                       'with username and password '\n",
            "                                       'authentication. On every node in your '\n",
            "                                       'cluster, stop both Kibana and '\n",
            "                                       'Elasticsearch if they are running. On '\n",
            "                                       'every node in your cluster, add the '\n",
            "                                       'xpack.security.enabled setting to the '\n",
            "                                       '$ES_PATH_CONF/elasticsearch.yml file '\n",
            "                                       'and set the value to true : '\n",
            "                                       'xpack.security.enabled: true The '\n",
            "                                       '$ES_PATH_CONF variable is the path for '\n",
            "                                       'the Elasticsearch configuration files. '\n",
            "                                       'If you installed Elasticsearch using '\n",
            "                                       'archive distributions ( zip or tar.gz '\n",
            "                                       '), the variable defaults to '\n",
            "                                       '$ES_HOME/config . If you used package '\n",
            "                                       'distributions (Debian or RPM), the '\n",
            "                                       'variable defaults to '\n",
            "                                       '/etc/elasticsearch . If your cluster '\n",
            "                                       'has a single node, add the '\n",
            "                                       'discovery.type setting in the '\n",
            "                                       '$ES_PATH_CONF/elasticsearch.yml file '\n",
            "                                       'and set the value to single-node . '\n",
            "                                       'This setting ensures that your node '\n",
            "                                       'does not inadvertently connect to '\n",
            "                                       'other clusters that might be running '\n",
            "                                       'on your network. discovery.type: '\n",
            "                                       'single-node Set passwords for built-in '\n",
            "                                       'users edit To communicate with your '\n",
            "                                       'cluster, you must configure a password '\n",
            "                                       'for the elastic and kibana_system '\n",
            "                                       'built-in users. Unless you enable '\n",
            "                                       'anonymous access (not recommended), '\n",
            "                                       'all requests that don’t include '\n",
            "                                       'credentials are rejected. You only '\n",
            "                                       'need to set passwords for the elastic '\n",
            "                                       'and kibana_system users when enabling '\n",
            "                                       'minimal or basic security. On every '\n",
            "                                       'node in your cluster, start '\n",
            "                                       'Elasticsearch. For example, if you '\n",
            "                                       'installed Elasticsearch with a .tar.gz '\n",
            "                                       'package, run the following command '\n",
            "                                       'from the ES_HOME directory: '\n",
            "                                       './bin/elasticsearch On any node in '\n",
            "                                       'your cluster, open another terminal '\n",
            "                                       'window and set the password for the '\n",
            "                                       'elastic built-in user by running the '\n",
            "                                       'elasticsearch-reset-password utility. '\n",
            "                                       'This command resets the password to an '\n",
            "                                       'auto-generated value. '\n",
            "                                       './bin/elasticsearch-reset-password -u '\n",
            "                                       'elastic If you want to set the '\n",
            "                                       'password to a specific value, run the '\n",
            "                                       'command with the interactive ( -i ) '\n",
            "                                       'parameter. '\n",
            "                                       './bin/elasticsearch-reset-password -i '\n",
            "                                       '-u elastic Set the password for the '\n",
            "                                       'kibana_system built-in user. '\n",
            "                                       './bin/elasticsearch-reset-password -u '\n",
            "                                       'kibana_system Save the new passwords. '\n",
            "                                       'In the next step, you’ll add the the '\n",
            "                                       'password for the kibana_system user to '\n",
            "                                       'Kibana. Next : Configure Kibana to '\n",
            "                                       'connect to Elasticsearch with a '\n",
            "                                       'password Configure Kibana to connect '\n",
            "                                       'to Elasticsearch with a password edit '\n",
            "                                       'When the Elasticsearch security '\n",
            "                                       'features are enabled, users must log '\n",
            "                                       'in to Kibana with a valid username and '\n",
            "                                       'password. You’ll configure Kibana to '\n",
            "                                       'use the built-in kibana_system user '\n",
            "                                       'and the password that you created '\n",
            "                                       'earlier. Kibana performs some '\n",
            "                                       'background tasks that require use of '\n",
            "                                       'the kibana_system user. This account '\n",
            "                                       'is not meant for individual users and '\n",
            "                                       'does not have permission to log in to '\n",
            "                                       'Kibana from a browser. Instead, you’ll '\n",
            "                                       'log in to Kibana as the elastic '\n",
            "                                       'superuser. Add the '\n",
            "                                       'elasticsearch.username setting to the '\n",
            "                                       'KIB_PATH_CONF/kibana.yml file and set '\n",
            "                                       'the value to the kibana_system user: '\n",
            "                                       'elasticsearch.username: '\n",
            "                                       '\"kibana_system\" The KIB_PATH_CONF '\n",
            "                                       'variable is the path for the Kibana '\n",
            "                                       'configuration files. If you installed '\n",
            "                                       'Kibana using archive distributions ( '\n",
            "                                       'zip or tar.gz ), the variable defaults '\n",
            "                                       'to KIB_HOME/config . If you used '\n",
            "                                       'package distributions (Debian or RPM), '\n",
            "                                       'the variable defaults to /etc/kibana . '\n",
            "                                       'From the directory where you installed '\n",
            "                                       'Kibana, run the following commands to '\n",
            "                                       'create the Kibana keystore and add the '\n",
            "                                       'secure settings: Create the Kibana '\n",
            "                                       'keystore: ./bin/kibana-keystore create '\n",
            "                                       'Add the password for the kibana_system '\n",
            "                                       'user to the Kibana keystore: '\n",
            "                                       './bin/kibana-keystore add '\n",
            "                                       'elasticsearch.password When prompted, '\n",
            "                                       'enter the password for the '\n",
            "                                       'kibana_system user. Restart Kibana. '\n",
            "                                       'For example, if you installed Kibana '\n",
            "                                       'with a .tar.gz package, run the '\n",
            "                                       'following command from the Kibana '\n",
            "                                       'directory: ./bin/kibana Log in to '\n",
            "                                       'Kibana as the elastic user. Use this '\n",
            "                                       'superuser account to manage spaces, '\n",
            "                                       'create new users, and assign roles . '\n",
            "                                       'If you’re running Kibana locally, go '\n",
            "                                       'to http://localhost:5601 to view the '\n",
            "                                       'login page. What’s next? edit '\n",
            "                                       'Congratulations! You enabled password '\n",
            "                                       'protection for your local cluster to '\n",
            "                                       'prevent unauthorized access. You can '\n",
            "                                       'log in to Kibana securely as the '\n",
            "                                       'elastic user and create additional '\n",
            "                                       'users and roles. If you’re running a '\n",
            "                                       'single-node cluster , then you can '\n",
            "                                       'stop here. If your cluster has '\n",
            "                                       'multiple nodes, then you must '\n",
            "                                       'configure Transport Layer Security '\n",
            "                                       '(TLS) between nodes. Production mode '\n",
            "                                       'clusters will not start if you do not '\n",
            "                                       'enable TLS. Set up basic security for '\n",
            "                                       'the Elastic Stack to secure all '\n",
            "                                       'internal communication between nodes '\n",
            "                                       'in your cluster. « Manually configure '\n",
            "                                       'security Set up basic security for the '\n",
            "                                       'Elastic Stack » Most Popular Video Get '\n",
            "                                       'Started with Elasticsearch Video Intro '\n",
            "                                       'to Kibana Video ELK for Logs & '\n",
            "                                       'Metrics'],\n",
            "                      'title': ['Set up minimal security for Elasticsearch | '\n",
            "                                'Elasticsearch Guide [8.8] | Elastic'],\n",
            "                      'url': ['https://www.elastic.co/guide/en/elasticsearch/reference/current/security-minimal-setup.html']}}],\n",
            " 'max_score': None,\n",
            " 'total': {'relation': 'gte', 'value': 10000}}\n"
          ]
        }
      ],
      "source": [
        "def search_with_knn(query_text, es):\n",
        "    # Elasticsearch query (BM25) and kNN configuration for rrf hybrid search\n",
        "\n",
        "    query = {\n",
        "        \"bool\": {\n",
        "            \"must\": [{\n",
        "                \"match\": {\n",
        "                    \"body_content\": {\n",
        "                        \"query\": query_text\n",
        "                    }\n",
        "                }\n",
        "            }],\n",
        "            \"filter\": [{\n",
        "              \"term\": {\n",
        "                \"url_path_dir3\": \"elasticsearch\"\n",
        "              }\n",
        "            }]\n",
        "        }\n",
        "    }\n",
        "\n",
        "    knn = [\n",
        "    {\n",
        "      \"field\": \"chunk-vector\",\n",
        "      \"k\": 10,\n",
        "      \"num_candidates\": 10,\n",
        "      \"filter\": {\n",
        "        \"bool\": {\n",
        "          \"filter\": [\n",
        "            {\n",
        "              \"range\": {\n",
        "                \"chunklength\": {\n",
        "                  \"gte\": 0\n",
        "                }\n",
        "              }\n",
        "            },\n",
        "            {\n",
        "              \"term\": {\n",
        "                \"url_path_dir3\": \"elasticsearch\"\n",
        "              }\n",
        "            }\n",
        "          ]\n",
        "        }\n",
        "      },\n",
        "      \"query_vector_builder\": {\n",
        "        \"text_embedding\": {\n",
        "          \"model_id\": \"sentence-transformers__msmarco-minilm-l-12-v3\",\n",
        "          \"model_text\": query_text\n",
        "        }\n",
        "      }\n",
        "    }\n",
        "  ]\n",
        "\n",
        "    rank = {\n",
        "       \"rrf\": {\n",
        "       }\n",
        "   }\n",
        "\n",
        "    fields= [\n",
        "        \"title\",\n",
        "        \"url\",\n",
        "        \"body_content\"\n",
        "      ]\n",
        "\n",
        "    resp = es.search(index=os.environ['ELASTIC_INDEX_DOCS'],\n",
        "                     query=query,\n",
        "                     knn=knn,\n",
        "                     rank=rank,\n",
        "                     fields=fields,\n",
        "                     size=1,\n",
        "                     source=False)\n",
        "\n",
        "    return resp\n",
        "\n",
        "query = 'How do I start Elastic with Security Enabled?'\n",
        "response = search_with_knn(query, es)\n",
        "pprint(response['hits'])"
      ]
    },
    {
      "cell_type": "markdown",
      "metadata": {
        "id": "tCsxLt8Yc2LI"
      },
      "source": [
        "# Lab 2-2\n",
        "RAG"
      ]
    },
    {
      "cell_type": "markdown",
      "metadata": {
        "id": "ELRm5s9pc5Jg"
      },
      "source": [
        "## Verify our Elasticsearch connection is still active\n",
        "If you receive an error, rerun the cells in the Setup section above"
      ]
    },
    {
      "cell_type": "code",
      "execution_count": 16,
      "metadata": {
        "id": "Isssrm07dKMe"
      },
      "outputs": [
        {
          "name": "stdout",
          "output_type": "stream",
          "text": [
            "You Know, for Search\n",
            "{'name': 'instance-0000000007', 'cluster_name': '380c468e8d7a4196a460aac7cea6f8ae', 'cluster_uuid': 'Pkvhl8PMT_G6ZIZnH-1Wlw', 'version': {'number': '8.9.0', 'build_flavor': 'default', 'build_type': 'docker', 'build_hash': '8aa461beb06aa0417a231c345a1b8c38fb498a0d', 'build_date': '2023-07-19T14:43:58.555259655Z', 'build_snapshot': False, 'lucene_version': '9.7.0', 'minimum_wire_compatibility_version': '7.17.0', 'minimum_index_compatibility_version': '7.0.0'}, 'tagline': 'You Know, for Search'}\n"
          ]
        }
      ],
      "source": [
        "print(es.info()['tagline']) # should return cluster info\n",
        "print(es.info())"
      ]
    },
    {
      "cell_type": "markdown",
      "metadata": {
        "id": "t7RmurdZNPg-"
      },
      "source": [
        "## Main Script\n",
        "We've placed the sample code in the streamlit folder of this repository\n",
        "\n",
        "Take a look at the code [streamlit/app.py](../streamlit/app.py)"
      ]
    },
    {
      "cell_type": "markdown",
      "metadata": {
        "id": "Wu0KfS0ESf6e"
      },
      "source": [
        "## Streamlit\n",
        "To start the Streamlit app you need to use the ```streamlit run``` command from the folder.  You can do this either from this notebook or the Visual Studio Code terminal provided in Github Codespaces"
      ]
    },
    {
      "cell_type": "code",
      "execution_count": 17,
      "metadata": {
        "id": "cHIHFID3NBXa"
      },
      "outputs": [
        {
          "name": "stdout",
          "output_type": "stream",
          "text": [
            "\n",
            "Collecting usage statistics. To deactivate, set browser.gatherUsageStats to False.\n",
            "\u001b[0m\n",
            "\u001b[0m\n",
            "\u001b[34m\u001b[1m  You can now view your Streamlit app in your browser.\u001b[0m\n",
            "\u001b[0m\n",
            "\u001b[34m  Network URL: \u001b[0m\u001b[1mhttp://172.16.5.4:8501\u001b[0m\n",
            "\u001b[34m  External URL: \u001b[0m\u001b[1mhttp://20.228.153.162:8501\u001b[0m\n",
            "\u001b[0m\n",
            "^C\n",
            "\u001b[34m  Stopping...\u001b[0m\n"
          ]
        }
      ],
      "source": [
        "! cd ../streamlit; streamlit run app.py "
      ]
    }
  ],
  "metadata": {
    "colab": {
      "provenance": []
    },
    "kernelspec": {
      "display_name": "Python 3",
      "name": "python3"
    },
    "language_info": {
      "codemirror_mode": {
        "name": "ipython",
        "version": 3
      },
      "file_extension": ".py",
      "mimetype": "text/x-python",
      "name": "python",
      "nbconvert_exporter": "python",
      "pygments_lexer": "ipython3",
      "version": "3.10.8"
    }
  },
  "nbformat": 4,
  "nbformat_minor": 0
}
